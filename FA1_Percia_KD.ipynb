{
 "cells": [
  {
   "cell_type": "code",
   "execution_count": 2,
   "metadata": {},
   "outputs": [
    {
     "name": "stdout",
     "output_type": "stream",
     "text": [
      "Input a number in kilometers12\n",
      "There are 12.00 miles in 7.46 kilometers.\n"
     ]
    }
   ],
   "source": [
    "km2 = float(input(\"Input a number in kilometers\"))\n",
    "\n",
    "miles2 = float(km2*0.62137119)\n",
    "\n",
    "print(\"There are %0.2f miles in %0.2f kilometers.\"%(km2,miles2))"
   ]
  },
  {
   "cell_type": "code",
   "execution_count": 4,
   "metadata": {},
   "outputs": [
    {
     "name": "stdout",
     "output_type": "stream",
     "text": [
      "Enter your average speed in km per mins and secs\n",
      "Input the value of kilometer10\n",
      "Input the value of minutes42\n",
      "Input the value of seconds42\n",
      "Your converted average speed is 6 mins and 52.31 secs per mile  \n",
      "Your converted average speed is 8.73 miles per hour\n"
     ]
    }
   ],
   "source": [
    "print(\"Enter your average speed in km per mins and secs\")\n",
    "\n",
    "km3 = float(input(\"Input the value of kilometer\"))\n",
    "mins = int(input(\"Input the value of minutes\"))\n",
    "secs = float(input(\"Input the value of seconds\"))\n",
    "\n",
    "miles3 = float(km3*0.62137119)\n",
    "\n",
    "secs1 = mins*60\n",
    "secs1 += secs\n",
    "secs1 = (secs1/miles3)\n",
    "rem = float(secs1%60)\n",
    "secs1 -= rem\n",
    "mins1 = secs1/60\n",
    "\n",
    "\n",
    "print(\"Your converted average speed is %.0f mins and %.2f secs per mile  \"%(mins1,rem))\n",
    "\n",
    "secs /= 60\n",
    "mins += secs\n",
    "hours = mins/60\n",
    "miles3 = (miles3/hours)\n",
    "\n",
    "print(\"Your converted average speed is %0.2f miles per hour\"%miles3)"
   ]
  },
  {
   "cell_type": "code",
   "execution_count": null,
   "metadata": {},
   "outputs": [],
   "source": []
  }
 ],
 "metadata": {
  "kernelspec": {
   "display_name": "Python 3",
   "language": "python",
   "name": "python3"
  },
  "language_info": {
   "codemirror_mode": {
    "name": "ipython",
    "version": 3
   },
   "file_extension": ".py",
   "mimetype": "text/x-python",
   "name": "python",
   "nbconvert_exporter": "python",
   "pygments_lexer": "ipython3",
   "version": "3.7.0"
  }
 },
 "nbformat": 4,
 "nbformat_minor": 2
}
